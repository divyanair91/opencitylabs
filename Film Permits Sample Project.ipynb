{
 "cells": [
  {
   "cell_type": "code",
   "execution_count": 33,
   "metadata": {},
   "outputs": [
    {
     "name": "stdout",
     "output_type": "stream",
     "text": [
      "['count_EventID']\n"
     ]
    }
   ],
   "source": [
    "import pandas as pd\n",
    "\n",
    "numrowsurl = 'https://data.cityofnewyork.us/resource/tg4x-b46p.json?$select=count(EventID)'\n",
    "numrowsjson = pd.read_json(numrowsurl, orient='columns')\n",
    "print(list(numrowsjson.columns.values))"
   ]
  },
  {
   "cell_type": "code",
   "execution_count": 35,
   "metadata": {},
   "outputs": [
    {
     "name": "stdout",
     "output_type": "stream",
     "text": [
      "40172\n"
     ]
    }
   ],
   "source": [
    "rowcount = int(numrowsjson['count_EventID'])\n",
    "print(rowcount)"
   ]
  },
  {
   "cell_type": "code",
   "execution_count": 37,
   "metadata": {},
   "outputs": [],
   "source": [
    "url = 'https://data.cityofnewyork.us/resource/tg4x-b46p.json?$limit=1000'\n",
    "filmdata = pd.read_json(url, orient='columns')\n",
    "#initialize counters\n",
    "offset = 1000\n",
    "limit = 1000\n",
    "while offset < rowcount:\n",
    "    try:\n",
    "        tempurl = 'https://data.cityofnewyork.us/resource/tg4x-b46p.json?$limit=' + str(limit) + '&$offset=' + str(offset)\n",
    "        tempfilmdata = pd.read_json(tempurl, orient='columns')\n",
    "        filmdata = filmdata.append(tempfilmdata)\n",
    "        offset = offset + 1000\n",
    "    except:\n",
    "        print(\"Error Out\")"
   ]
  },
  {
   "cell_type": "code",
   "execution_count": 38,
   "metadata": {},
   "outputs": [
    {
     "name": "stdout",
     "output_type": "stream",
     "text": [
      "['borough', 'category', 'communityboard_s', 'country', 'enddatetime', 'enteredon', 'eventagency', 'eventid', 'eventtype', 'parkingheld', 'policeprecinct_s', 'startdatetime', 'subcategoryname', 'zipcode_s']\n",
      "(40172, 14)\n"
     ]
    }
   ],
   "source": [
    "print(list(filmdata.columns.values))\n",
    "print(filmdata.shape)"
   ]
  },
  {
   "cell_type": "code",
   "execution_count": 80,
   "metadata": {},
   "outputs": [
    {
     "name": "stdout",
     "output_type": "stream",
     "text": [
      "['11222', '11222', '11101', '11222', '11222']\n"
     ]
    }
   ],
   "source": [
    "zipcodes = filmdata['zipcode_s']\n",
    "zipcodes = zipcodes.tolist()\n",
    "print(zipcodes[0:5])"
   ]
  },
  {
   "cell_type": "code",
   "execution_count": 79,
   "metadata": {},
   "outputs": [
    {
     "name": "stdout",
     "output_type": "stream",
     "text": [
      "['11222', '11222', '11101', '11222', '11222']\n"
     ]
    }
   ],
   "source": [
    "zipcodes_clean = []\n",
    "for sublist in zipcodes:\n",
    "    tempsublist = str(sublist).split(\",\")\n",
    "    for val in tempsublist:\n",
    "        zipcodes_clean.append(val)\n",
    "print(zipcodes_clean[0:5])"
   ]
  },
  {
   "cell_type": "code",
   "execution_count": 42,
   "metadata": {},
   "outputs": [],
   "source": [
    "#https://en.wikipedia.org/wiki/Boroughs_of_New_York_City -- Area of Each Borough\n",
    "#Manhattan: 22.83 mi^2\n",
    "#Bronx: 42.1 mi^2\n",
    "#Brooklyn: 70.82 mi^2\n",
    "#Queens: 108.53 mi^2\n",
    "#Staten Island: 108.53 mi^2"
   ]
  },
  {
   "cell_type": "code",
   "execution_count": 68,
   "metadata": {},
   "outputs": [],
   "source": [
    "#Top Most Common Zip Codes Where Filming Occurs\n",
    "from collections import Counter\n",
    "zipinstances = Counter(zipcodes_clean)\n",
    "\n",
    "#Most common zip codes are Greenpoint; Brooklyn \n",
    "#https://untappedcities.com/2014/04/04/nycs-micro-neighborhoods-little-poland-in-greenpoint-brooklyn/\n",
    "#Long Island City/Hunters Point, Queens; Hells Kitchen, Manhattan; \n",
    "#Hudson Yards, Manhattan"
   ]
  },
  {
   "cell_type": "code",
   "execution_count": 71,
   "metadata": {},
   "outputs": [
    {
     "name": "stdout",
     "output_type": "stream",
     "text": [
      "  Zip Code  Movie Shoot Frequency\n",
      "0    11222                   3738\n",
      "1    11101                   3491\n",
      "2    10019                   2353\n",
      "3    10001                   1949\n",
      "4    10036                   1918\n"
     ]
    }
   ],
   "source": [
    "plotzip = pd.DataFrame(zipinstances.most_common())\n",
    "plotzip.columns = ['Zip Code', 'Movie Shoot Frequency']\n",
    "print(plotzip[0:5])"
   ]
  },
  {
   "cell_type": "code",
   "execution_count": 72,
   "metadata": {},
   "outputs": [
    {
     "name": "stdout",
     "output_type": "stream",
     "text": [
      "262\n",
      "192\n"
     ]
    }
   ],
   "source": [
    "#Import NYC Zip Code GeoJSON file\n",
    "import requests\n",
    "r = requests.get(url='http://data.beta.nyc//dataset/3bf5fb73-edb5-4b05-bb29-7c95f4a727fc/resource/6df127b1-6d04-4bb7-b983-07402a2c3f90/download/f4129d9aa6dd4281bc98d0f701629b76nyczipcodetabulationareas.geojson')\n",
    "tmp = r.json()\n",
    "\n",
    "#Remove ZIP codes not in our dataset\n",
    "geozips = []\n",
    "for i in range(len(tmp['features'])):\n",
    "    if tmp['features'][i]['properties']['postalCode'] in list(plotzip['Zip Code'].unique()):\n",
    "        geozips.append(tmp['features'][i])\n",
    "print(len(tmp['features']))        \n",
    "print(len(geozips))"
   ]
  },
  {
   "cell_type": "code",
   "execution_count": 73,
   "metadata": {},
   "outputs": [
    {
     "data": {
      "text/plain": [
       "1757223"
      ]
     },
     "execution_count": 73,
     "metadata": {},
     "output_type": "execute_result"
    }
   ],
   "source": [
    "#Create new JSON object\n",
    "import json\n",
    "\n",
    "newjson = dict.fromkeys(['type','features'])\n",
    "newjson['type'] = 'FeatureCollection'\n",
    "newjson['features'] = geozips\n",
    "\n",
    "#Save JSON object as file\n",
    "open(\"updated-nycgeo.json\", \"w\").write(json.dumps(newjson, sort_keys = True, indent = 4, separators = (',',': ')))"
   ]
  },
  {
   "cell_type": "code",
   "execution_count": 74,
   "metadata": {},
   "outputs": [],
   "source": [
    "import folium\n",
    "\n",
    "def create_map(table, zips, mapped_feature, add_text = ''):\n",
    "    #Read in Updated GeoJSON file\n",
    "    ny_geo = r'updated-nycgeo.json'\n",
    "    #Initiate Folium map with NY's longitude and latitude\n",
    "    m = folium.Map(location = [40.7128, -74.0060],zoom_start = 12, tiles = \"Mapbox Control Room\",)\n",
    "    #Create Choropleth Map\n",
    "    m.choropleth(\n",
    "        geo_data = ny_geo,\n",
    "        fill_opacity = 0.7,\n",
    "        line_opacity = 0.2,\n",
    "        data = table,\n",
    "        key_on = 'feature.properties.postalCode',\n",
    "        columns = [zips, mapped_feature],\n",
    "        fill_color = 'YlGn',\n",
    "        legend_name = (' ').join(mapped_feature.split('_')).title() + ' ' + add_text + ' Across NY')\n",
    "    folium.LayerControl().add_to(m)\n",
    "    m.save(outfile = mapped_feature + '_map.html')"
   ]
  },
  {
   "cell_type": "code",
   "execution_count": 75,
   "metadata": {},
   "outputs": [],
   "source": [
    "create_map(plotzip, 'Zip Code', 'Movie Shoot Frequency','')"
   ]
  },
  {
   "cell_type": "code",
   "execution_count": 48,
   "metadata": {},
   "outputs": [
    {
     "name": "stdout",
     "output_type": "stream",
     "text": [
      "[('Television', 21175), ('Film', 7282), ('Theater', 3660), ('Commercial', 3434), ('Still Photography', 2609)]\n",
      "[('Episodic series', 11539), ('Feature', 5775), ('Not Applicable', 5756), ('Cable-episodic', 4277), ('Theater', 3660)]\n"
     ]
    }
   ],
   "source": [
    "#Most Commonly Filmed Content in NYC\n",
    "category = filmdata['category'].tolist()\n",
    "subcategory = filmdata['subcategoryname'].tolist()\n",
    "\n",
    "catinstances = Counter(category)\n",
    "print(catinstances.most_common()[0:5])\n",
    "\n",
    "subcatinstances = Counter(subcategory)\n",
    "print(subcatinstances.most_common()[0:5])"
   ]
  },
  {
   "cell_type": "code",
   "execution_count": 78,
   "metadata": {
    "scrolled": true
   },
   "outputs": [
    {
     "name": "stdout",
     "output_type": "stream",
     "text": [
      "borough    category  \n",
      "Manhattan  Television    8842\n",
      "Brooklyn   Television    6593\n",
      "Queens     Television    4815\n",
      "Manhattan  Film          3430\n",
      "           Theater       3179\n",
      "Name: eventid, dtype: int64\n"
     ]
    }
   ],
   "source": [
    "#Most Common Content by Borough\n",
    "boroughgroup = filmdata.groupby(['borough','category']).count()['eventid'].sort_values(ascending=False)\n",
    "print(boroughgroup[0:5])\n",
    "\n",
    "#Should we normalize this?"
   ]
  },
  {
   "cell_type": "code",
   "execution_count": 81,
   "metadata": {},
   "outputs": [
    {
     "name": "stdout",
     "output_type": "stream",
     "text": [
      "parkingheld\n",
      "WEST   48 STREET between 6 AVENUE and 7 AVENUE                                                                                                                                      814\n",
      "AMSTERDAM AVENUE between WEST   73 STREET and WEST   75 STREET,  BROADWAY between WEST   74 STREET and WEST   75 STREET,  WEST   75 STREET between AMSTERDAM AVENUE and BROADWAY    404\n",
      "WEST   55 STREET between 11 AVENUE and 12 AVENUE                                                                                                                                    382\n",
      "NORTH HENRY STREET between GREENPOINT AVENUE and MESEROLE AVENUE                                                                                                                    259\n",
      "WEST   44 STREET between BROADWAY and 6 AVENUE                                                                                                                                      220\n",
      "Name: eventid, dtype: int64\n"
     ]
    }
   ],
   "source": [
    "#What parking areas are being taken the most advantage of?\n",
    "#Worst places to park?\n",
    "parkinggroup = filmdata.groupby(['parkingheld']).count()['eventid'].sort_values(ascending=False)\n",
    "print(parkinggroup[0:5])\n",
    "\n",
    "#Top Area = Times Square, UWS, Hell's Kitchen by the Pier, Greenpoint, BK\n",
    "#Is it that parking is not needed in top zip codes? \n",
    "#Maybe aggregate existence of ParkingHeld by ZipCode and see which Zip has the most"
   ]
  },
  {
   "cell_type": "code",
   "execution_count": 52,
   "metadata": {},
   "outputs": [],
   "source": [
    "#Parking Held by ZipCode\n",
    "#zipcodes_clean = []\n",
    "#parkingheld_clean = []\n",
    "#for i in range(0,len(filmdata['zipcode_s'])):\n",
    "#    tempsublist = str(filmdata['zipcode_s'][i]).split(\",\")\n",
    "#    for val in tempsublist:\n",
    "#        zipcodes_clean.append(val)\n",
    "#        parkingheld_clean.append(filmdata['parkingheld'][i])\n",
    "#\n",
    "#zippark_df = pd.DataFrame(\n",
    "#    {'zipcode': zipcodes_clean,\n",
    "#     'parkingheld': parkingheld_clean\n",
    "#    })\n",
    "\n",
    "#parkingbyzip = zippark_df.groupby(['zipcode']).count()['parkingheld'].sort_values(ascending=False)\n",
    "#print(parkingbyzip[0:5])\n",
    "\n",
    "#Parking is held for every single permit requested because these numbers match up with the ZipCode counts overall\n",
    "#What is number of residential vs commercial buildings in each of these areas?\n",
    "#What intersections in GreenPoint, Long Island City, Hell's Kitchen?"
   ]
  },
  {
   "cell_type": "code",
   "execution_count": 53,
   "metadata": {},
   "outputs": [],
   "source": [
    "#Next Steps: \n",
    "#Where are the longest shoots?\n",
    "#Where have most minutes of parking time been held?\n",
    "#Different types of EventAgencies?\n",
    "#Which zip code gets the most hours of content shoot?\n",
    "#Distribution of Event Types\n",
    "#https://patch.com/new-york/parkslope/when-filming-brooklyn-too-much-good-thing"
   ]
  }
 ],
 "metadata": {
  "kernelspec": {
   "display_name": "Python 3",
   "language": "python",
   "name": "python3"
  },
  "language_info": {
   "codemirror_mode": {
    "name": "ipython",
    "version": 3
   },
   "file_extension": ".py",
   "mimetype": "text/x-python",
   "name": "python",
   "nbconvert_exporter": "python",
   "pygments_lexer": "ipython3",
   "version": "3.7.1"
  }
 },
 "nbformat": 4,
 "nbformat_minor": 2
}
